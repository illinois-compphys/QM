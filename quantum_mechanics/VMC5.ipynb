{
 "cells": [
  {
   "cell_type": "markdown",
   "id": "a8f6dee6",
   "metadata": {},
   "source": [
    "# Variational Monte Carlo"
   ]
  },
  {
   "cell_type": "code",
   "execution_count": null,
   "id": "e52d8447",
   "metadata": {
    "tags": [
     "hide-output"
    ]
   },
   "outputs": [],
   "source": [
    "import numpy as np \n",
    "import pylab as plt\n",
    "import qutip\n",
    "import scipy\n",
    "import scipy.linalg\n",
    "from matplotlib.animation import FuncAnimation\n",
    "from IPython.display import HTML\n",
    "import matplotlib.animation as animation\n",
    "from typing import NamedTuple\n",
    "from scipy.integrate import tplquad\n",
    "from numba import njit\n",
    "def resetMe(keepList=[]):\n",
    "    ll=%who_ls\n",
    "    keepList=keepList+['FuncAnimation','HTML','resetMe','scipy','np','plt','math','jax','jnp','jit','grad','HTML','animation','qutip','animation','FuncAnimation','NamedTuple']\n",
    "    for iiii in keepList:\n",
    "        if iiii in ll:\n",
    "            ll.remove(iiii)\n",
    "    for iiii in ll:\n",
    "        jjjj=\"^\"+iiii+\"$\"\n",
    "        %reset_selective -f {jjjj}  \n",
    "    ll=%who_ls\n",
    "    plt.rcParams.update({\"font.size\": 14})\n",
    "    return\n",
    "#resetMe()\n",
    "import datetime;datetime.datetime.now()\n",
    "from functools import partial\n",
    "#import jax as jnp"
   ]
  },
  {
   "cell_type": "markdown",
   "id": "06266c4a",
   "metadata": {},
   "source": [
    "Our goal in this assignment is to understand molecules and bidning. "
   ]
  },
  {
   "cell_type": "markdown",
   "id": "e7d35c8c",
   "metadata": {},
   "source": [
    "## Exercise 1. Dihydrogen cation"
   ]
  },
  {
   "cell_type": "markdown",
   "id": "ff304ab6",
   "metadata": {},
   "source": [
    "We are going to start by looking at the Hydrogen H2 molecule but with only one electron - i.e. the dihydrogen cation.  In exercise 3, we will work our way up to standard H2 with two electrons. "
   ]
  },
  {
   "cell_type": "markdown",
   "id": "89ef5dfd",
   "metadata": {},
   "source": [
    "### a.  A variational wave-function: attempt 1"
   ]
  },
  {
   "cell_type": "markdown",
   "id": "a7fea984",
   "metadata": {},
   "source": [
    "In this assignment, we will allow our molecule be centered at the origin with protons at $\\pm L/2 \\hat{x}$  We will start by working with $L=2$ Bohr radii.  \n",
    "\n",
    "We now must decide on a variational wave-function.  A reasonable first guess is to assume the electron is spending time in between the two protons - i.e. centered at zero with some spread around it.  \n",
    "\n",
    "We will begin by using\n",
    "\n",
    "$$\n",
    "\\Psi(r_1;\\alpha) = \\exp[-\\alpha(|r_1|^2 )] \n",
    "$$\n",
    "\n",
    "where $\\alpha$ is a variational parameter.  To store this parameter, we will define a named tuple\n",
    "```\n",
    "class WavefunctionParams(NamedTuple):\n",
    "  \"\"\"Wavefunction Parameters\"\"\"\n",
    "  alpha: float = 0.5\n",
    "  beta: float = 0.0\n",
    "params=WavefunctionParams(alpha=0.3)\n",
    "```\n",
    "which can then be accessed by `params.alpha`.  (`beta` will be used later - just ignore it for now)\n",
    "\n",
    "Now write a function `Psi(e_pos,p_pos,params)` which takes the electron position, proton positions, and wave-function parameters and returns the wave-function amplitude.  Note that our current wave-function just ignores the proton positions.\n",
    "\n",
    "Because the hydrogen atoms are lined up on the x-axis, plot the wave-function as a function of $x$ - i.e.  `xs=np.linspace(-2.1*L/2,2.1*L/2)`.  \n"
   ]
  },
  {
   "cell_type": "markdown",
   "id": "8a12c94b",
   "metadata": {},
   "source": [
    " <div><img src=\"https://clark.physics.illinois.edu/246img/AnsStart.svg\" width=200 align=left alt=\"Answer (end)\"></img><br></div>"
   ]
  },
  {
   "cell_type": "code",
   "execution_count": null,
   "id": "5436062f",
   "metadata": {
    "tags": [
     "answer-cell"
    ]
   },
   "outputs": [],
   "source": [
    "###ANSWER HERE"
   ]
  },
  {
   "cell_type": "markdown",
   "id": "c1670240",
   "metadata": {},
   "source": [
    " <div><img src=\"https://clark.physics.illinois.edu/246img/AnsEnd.svg\" width=200 align=left alt=\"Answer (end)\"></img><br></div>"
   ]
  },
  {
   "cell_type": "markdown",
   "id": "06d0d30f",
   "metadata": {},
   "source": [
    "### b. Evaluating the energy"
   ]
  },
  {
   "cell_type": "markdown",
   "id": "a986b125",
   "metadata": {},
   "source": [
    "To use the variational principle, we should compute the energy of the wave-function:\n",
    "\n",
    "\n",
    "$$\n",
    "E = \\frac{\\int \\Psi^*(R) [H\\Psi](R) dx dy dz }{\\int \\Psi^*(R) \\Psi(R) dR }\n",
    "$$\n",
    "\n",
    "where $R=(x,y,z)\n",
    "which we will rewrite as \n",
    "\n",
    "$$\n",
    "E = \\frac{\\int |\\Psi(R)|^2 \\frac{[H\\Psi](R)}{\\Psi(R)} dx  }{\\int |\\Psi(R)|^2 dx} \\equiv  \\frac{\\int |\\Psi(R)|^2 E_L(R)}{\\int |\\Psi(x)|^2 dx}\n",
    "$$\n",
    "\n",
    "where the local energy \n",
    "$$\n",
    "E_L(R) = \\frac{[H\\Psi](R)}{\\Psi(R)} = \\frac{[-\\nabla^2 \\Psi /2+ V \\Psi](R) }{\\Psi(R)}\n",
    "$$\n",
    "\n",
    "where we are using the Hamiltonian \n",
    "\n",
    "$$\n",
    "H = -\\sum_i \\frac{1}{2} \\nabla_i^2 + V(R)\n",
    "$$\n",
    "\n",
    "Let us start by writing a function `Laplacian(e_pos,p_pos,params,Psi ,delta=1e-5)` which takes the wave-function `Psi` and gives back the laplacian \n",
    "\n",
    "$$\n",
    "\\nabla^2 \\Psi = \\frac{\\partial^2}{\\partial x^2}+ \\frac{\\partial^2}{\\partial y^2}+ \\frac{\\partial^2}{\\partial z^2}\n",
    "$$\n",
    "\n",
    "\n",
    "You can do this using the stanadard finite difference stencil for the Laplacian \n",
    "\n",
    "$$\n",
    "\\frac{\\partial^2 F}{\\partial x^2} \\approx \\frac{F(x+\\delta) +F(x-\\delta) -2F(x)}{\\delta^2} \n",
    " $$\n",
    "\n",
    "You can test your Laplacian by doing \n",
    "```\n",
    "L=2.0\n",
    "p_pos=np.array([[-L/2,0,0],[L/2,0,0]])\n",
    "params=WavefunctionParams(alpha=0.5)\n",
    "e_pos=np.array([[1.2,0.3,-0.4]])\n",
    "print(Laplacian(e_pos, p_pos, params, Psi))\n",
    "``` \n",
    "\n",
    "and should get `-0.23846646879377426`"
   ]
  },
  {
   "cell_type": "markdown",
   "id": "71ebd596",
   "metadata": {},
   "source": [
    " <div><img src=\"https://clark.physics.illinois.edu/246img/AnsStart.svg\" width=200 align=left alt=\"Answer (end)\"></img><br></div>"
   ]
  },
  {
   "cell_type": "code",
   "execution_count": null,
   "id": "4c8c7cbd",
   "metadata": {
    "tags": [
     "answer-cell"
    ]
   },
   "outputs": [],
   "source": [
    "###ANSWER HERE"
   ]
  },
  {
   "cell_type": "markdown",
   "id": "d875646a",
   "metadata": {},
   "source": [
    " <div><img src=\"https://clark.physics.illinois.edu/246img/AnsEnd.svg\" width=200 align=left alt=\"Answer (end)\"></img><br></div>"
   ]
  },
  {
   "cell_type": "markdown",
   "id": "24edf827",
   "metadata": {},
   "source": [
    "The next step is to get the potential piece of the energy \n",
    "\n",
    "$$\n",
    "\\frac{V\\Psi}{\\Psi} = V(R) = -\\sum_{Ie} \\frac{1}{r_{Ie}} + \\sum_{ee} \\frac{1}{r_{ee}} + \\sum_{II} \\frac{1}{r_{II}}\n",
    "$$  \n",
    "\n",
    "where $I$ is the ion location and $e$ is the electron location. \n",
    "\n",
    "For the dihydrogen cation there is no electron-electron term and so we can ignore that.   \n",
    "\n",
    "Write a function `def VPsiOverPsi(e_pos,p_pos)` which returns this energy.\n",
    "Again, you can test this by evaluating\n",
    "```\n",
    "p_pos=np.array([[-L/2,0,0],[L/2,0,0]])\n",
    "params=WavefunctionParams(alpha=0.5)\n",
    "e_pos=np.array([[1.2,0.3,-0.4]])\n",
    "print(VPsiOverPsi(e_pos, p_pos))\n",
    "```\n",
    "and you should get \n",
    "`-1.8001955889484549`"
   ]
  },
  {
   "cell_type": "markdown",
   "id": "e0655a04",
   "metadata": {},
   "source": [
    " <div><img src=\"https://clark.physics.illinois.edu/246img/AnsStart.svg\" width=200 align=left alt=\"Answer (end)\"></img><br></div>"
   ]
  },
  {
   "cell_type": "code",
   "execution_count": null,
   "id": "7efc96cf",
   "metadata": {
    "tags": [
     "answer-cell"
    ]
   },
   "outputs": [],
   "source": [
    "###ANSWER HERE"
   ]
  },
  {
   "cell_type": "markdown",
   "id": "027b34d3",
   "metadata": {},
   "source": [
    " <div><img src=\"https://clark.physics.illinois.edu/246img/AnsEnd.svg\" width=200 align=left alt=\"Answer (end)\"></img><br></div>"
   ]
  },
  {
   "cell_type": "markdown",
   "id": "22e79989",
   "metadata": {},
   "source": [
    "Finally, put it all together into a single function `LocalEnergy(e_pos, p_pos, params,Psi)` which computes the local energy. Make sure you remember the $-1/2$.  "
   ]
  },
  {
   "cell_type": "markdown",
   "id": "86547d26",
   "metadata": {},
   "source": [
    " <div><img src=\"https://clark.physics.illinois.edu/246img/AnsStart.svg\" width=200 align=left alt=\"Answer (end)\"></img><br></div>"
   ]
  },
  {
   "cell_type": "code",
   "execution_count": null,
   "id": "26047a4a",
   "metadata": {
    "tags": [
     "answer-cell"
    ]
   },
   "outputs": [],
   "source": [
    "###ANSWER HERE"
   ]
  },
  {
   "cell_type": "markdown",
   "id": "feda5443",
   "metadata": {},
   "source": [
    " <div><img src=\"https://clark.physics.illinois.edu/246img/AnsEnd.svg\" width=200 align=left alt=\"Answer (end)\"></img><br></div>"
   ]
  },
  {
   "cell_type": "markdown",
   "id": "9a717c16",
   "metadata": {},
   "source": [
    "### c. Computing the energy "
   ]
  },
  {
   "cell_type": "markdown",
   "id": "1c2a4e0b",
   "metadata": {},
   "source": [
    "Now that we have the wave-function `Psi` and the local energy `LocalEnergy` we should be able to compute the local energy by doing the two integrals \n",
    "\n",
    "$$\n",
    "N = \\int |\\Psi(x,y,z)|^2 E_L(x,y,z) dx dy dz\n",
    "$$\n",
    "\n",
    "and \n",
    "\n",
    "$$\n",
    "D = \\int |\\Psi(x,y,z)|^2 dx dy dz\n",
    "$$\n",
    "\n",
    "These are both three-dimensional integrals and so it's possible to still compute them reasonably using a deterministic approach on a grid.   Later on in this assignment, we will have to switch to a Monte Carlo approach.  To compute an integral, we need to (for each integral)  to use the `integrate` function below and implement an approprite `integrand` function (using the spherical coordinates Jacobian that we've started you with)\n",
    "\n",
    "```\n",
    "def integrand(r, theta, phi, p_pos, params):\n",
    "    \"\"\"\n",
    "    Calculate the integrand for the expectation value in spherical coordinates.\n",
    "    \"\"\"\n",
    "    x = r * np.sin(theta) * np.cos(phi)\n",
    "    y = r * np.sin(theta) * np.sin(phi)\n",
    "    z = r * np.cos(theta)\n",
    "    e_pos = np.array([[x, y, z]])\n",
    "    jacobian = r**2 * np.sin(theta)\n",
    "    ### compute the other pieces of the integrand \n",
    "    return jacobian * rest of integrand. \n",
    "\n",
    "\n",
    "def integrate(p_pos,params,limit_r,integrand):\n",
    "    integration_result, _ = tplquad(\n",
    "        integrand,\n",
    "        0, limit_r,      # Limits for r\n",
    "        0, np.pi,         # Limits for theta\n",
    "        0, 2 * np.pi,    # Limits for ph, \n",
    "        args=(p_pos, params,),epsabs=1.49e-01, epsrel=1.49e-01\n",
    "    )\n",
    "    return integration_result\n",
    "\n",
    "alpha=0.5\n",
    "L = 2.0\n",
    "p_pos = np.array([[-L/2, 0, 0], [L/2, 0, 0]])\n",
    "limit_r=50.0\n",
    "params=WavefunctionParams(alpha=alpha)\n",
    "N=integrate_spherical(p_pos,params,limit_r,integrand_energy_spherical)\n",
    "D=integrate_spherical(p_pos,params,limit_r,integrand_norm_spherical)\n",
    "print(N/D)\n",
    "```\n",
    "\n",
    "Using $\\alpha=0.5$ and a sphere of $L=50$ compute the energy.  I get `-0.4316921028050629`. "
   ]
  },
  {
   "cell_type": "markdown",
   "id": "c97eb1ac",
   "metadata": {},
   "source": [
    " <div><img src=\"https://clark.physics.illinois.edu/246img/AnsStart.svg\" width=200 align=left alt=\"Answer (end)\"></img><br></div>"
   ]
  },
  {
   "cell_type": "code",
   "execution_count": null,
   "id": "34e88292",
   "metadata": {
    "tags": [
     "answer-cell"
    ]
   },
   "outputs": [],
   "source": [
    "###ANSWER HERE"
   ]
  },
  {
   "cell_type": "markdown",
   "id": "4c4d7649",
   "metadata": {},
   "source": [
    " <div><img src=\"https://clark.physics.illinois.edu/246img/AnsEnd.svg\" width=200 align=left alt=\"Answer (end)\"></img><br></div>"
   ]
  },
  {
   "cell_type": "markdown",
   "id": "a7bfc382",
   "metadata": {},
   "source": [
    "### d. Optimizing the energy "
   ]
  },
  {
   "cell_type": "markdown",
   "id": "d2a8ce34",
   "metadata": {},
   "source": [
    "Now, let's do this again looping over all  `alpha=np.linspace(0.1,0.5,20)`. To have it run at some reasonable rate, turn down $r_limit=10$.   We are looking for the variational parameter that makes this wave-function the smallest.  Plot energy vs. $\\alpha$. Fit a parobola to the function somewhere near the minima and predict what the best $\\alpha$ is.  Compute the energy again with this $\\alpha$ to get the lowest energy giving the variational space of this wave-function."
   ]
  },
  {
   "cell_type": "markdown",
   "id": "60f27a30",
   "metadata": {},
   "source": [
    " <div><img src=\"https://clark.physics.illinois.edu/246img/AnsStart.svg\" width=200 align=left alt=\"Answer (end)\"></img><br></div>"
   ]
  },
  {
   "cell_type": "code",
   "execution_count": null,
   "id": "71a0ddc8",
   "metadata": {
    "tags": [
     "answer-cell"
    ]
   },
   "outputs": [],
   "source": [
    "###ANSWER HERE"
   ]
  },
  {
   "cell_type": "code",
   "execution_count": null,
   "id": "0b555f42",
   "metadata": {
    "tags": [
     "answer-cell"
    ]
   },
   "outputs": [],
   "source": [
    "###ANSWER HERE"
   ]
  },
  {
   "cell_type": "markdown",
   "id": "b90d2393",
   "metadata": {},
   "source": [
    " <div><img src=\"https://clark.physics.illinois.edu/246img/AnsEnd.svg\" width=200 align=left alt=\"Answer (end)\"></img><br></div>"
   ]
  },
  {
   "cell_type": "markdown",
   "id": "a2b99a16",
   "metadata": {},
   "source": [
    "Finally plot out the wave-function on the x-axis (in the direction of the two protons). "
   ]
  },
  {
   "cell_type": "markdown",
   "id": "9012290e",
   "metadata": {},
   "source": [
    " <div><img src=\"https://clark.physics.illinois.edu/246img/AnsStart.svg\" width=200 align=left alt=\"Answer (end)\"></img><br></div>"
   ]
  },
  {
   "cell_type": "code",
   "execution_count": null,
   "id": "9885f896",
   "metadata": {
    "tags": [
     "answer-cell"
    ]
   },
   "outputs": [],
   "source": [
    "###ANSWER HERE"
   ]
  },
  {
   "cell_type": "markdown",
   "id": "57ba1836",
   "metadata": {},
   "source": [
    " <div><img src=\"https://clark.physics.illinois.edu/246img/AnsEnd.svg\" width=200 align=left alt=\"Answer (end)\"></img><br></div>"
   ]
  },
  {
   "cell_type": "markdown",
   "id": "f8c647a1",
   "metadata": {},
   "source": [
    "## Exercise 2. Variational Monte Carlo "
   ]
  },
  {
   "cell_type": "markdown",
   "id": "ccdfa8a7",
   "metadata": {},
   "source": [
    "### a. Variational Monte Carlo"
   ]
  },
  {
   "cell_type": "markdown",
   "id": "6e3adcbc",
   "metadata": {},
   "source": [
    "So far we've evaluated our wave-function using quadrature.  This works \"ok\" when you have one electron because you can afford to make a three-dimensional grid.  Eventually, though, we will need to transition to Monte Carlo to evaluate our wave-functions;  for example, to do the Hydrogen molecule with two electrons (as it would typically have), then we would need to do a six-dimensional integration.  \n",
    "\n",
    " In this exercise we will still work with the dihydrogen cation but switch over to variational Monte Carlo and make sure that we get the same energy.\n",
    "\n",
    "The steps of variational Monte Carlo:\n",
    "\n",
    "* For many sweeps:\n",
    "    * For 10 steps per sweep:\n",
    "        * Evaluate the old wavefunction amplitude `wf_old=Psi(e_pos,p_pos,params)`\n",
    "        * Change the location of the electron by a random gaussian `np.random.randn(3)*1.0`\n",
    "        * Evaluate the new wavefunction amplitude `wf_new=Psi(e_pos,p_pos,params)` at this new position\n",
    "        * If `(wf_new/wf_old)^2` is greater then a random number selected between 0 and 1 (`np.random.rand()`) keep the new positions.  Otherwise revert to the old positions.\n",
    "    * Add the current local energy to a list \n",
    "\n",
    "Once this is done you can average the local energy list (ignoring the first few entries where the Monte Carlo was still equilibrating).    Write a function `MonteCarlo(p_pos,params,Psi,sweeps)` which performs this Variational Monte Carlo and returns the energies and acceptance ratios. \n",
    "\n",
    "Let's try this for our wave-function at $\\alpha=0.5$ and run for 10,000 sweeps. You can compute an error bar by doing `error_energy=np.std(energies[l:])/np.sqrt(len(energies[l:]))` where `l` is a number selected to ignore the first few sweeps. Check that you are within 1-2 error bars of the value you computed above in exercise 1. \n",
    "\n",
    "Also plot the energy as a function of sweeps and plot a histogram of the energies.  You should notice that it is very spikey and the histogram has a wide range of values."
   ]
  },
  {
   "cell_type": "markdown",
   "id": "c27d9644",
   "metadata": {},
   "source": [
    " <div><img src=\"https://clark.physics.illinois.edu/246img/AnsStart.svg\" width=200 align=left alt=\"Answer (end)\"></img><br></div>"
   ]
  },
  {
   "cell_type": "code",
   "execution_count": null,
   "id": "0a9cfc0b",
   "metadata": {
    "tags": [
     "answer-cell"
    ]
   },
   "outputs": [],
   "source": [
    "###ANSWER HERE"
   ]
  },
  {
   "cell_type": "markdown",
   "id": "b76c94c8",
   "metadata": {},
   "source": [
    " <div><img src=\"https://clark.physics.illinois.edu/246img/AnsEnd.svg\" width=200 align=left alt=\"Answer (end)\"></img><br></div>"
   ]
  },
  {
   "cell_type": "markdown",
   "id": "9b2e33a8",
   "metadata": {},
   "source": [
    "### b.  Energy as a function of $\\alpha$"
   ]
  },
  {
   "cell_type": "markdown",
   "id": "8de34d17",
   "metadata": {},
   "source": [
    "Now go ahead and produce the energy as a function of $\\alpha$ for `alphas=np.linspace(0.01,0.5,20)`.  You should get something similar to above but you should have more accurate energies (assuming you were using `r_limit=10` above).  There will be error bars on your results thought. "
   ]
  },
  {
   "cell_type": "markdown",
   "id": "5ed88249",
   "metadata": {},
   "source": [
    " <div><img src=\"https://clark.physics.illinois.edu/246img/AnsStart.svg\" width=200 align=left alt=\"Answer (end)\"></img><br></div>"
   ]
  },
  {
   "cell_type": "code",
   "execution_count": null,
   "id": "792d729c",
   "metadata": {
    "tags": [
     "answer-cell"
    ]
   },
   "outputs": [],
   "source": [
    "###ANSWER HERE"
   ]
  },
  {
   "cell_type": "code",
   "execution_count": null,
   "id": "ae6a25d9",
   "metadata": {
    "tags": [
     "answer-cell"
    ]
   },
   "outputs": [],
   "source": [
    "###ANSWER HERE"
   ]
  },
  {
   "cell_type": "markdown",
   "id": "4f37a6ac",
   "metadata": {},
   "source": [
    " <div><img src=\"https://clark.physics.illinois.edu/246img/AnsEnd.svg\" width=200 align=left alt=\"Answer (end)\"></img><br></div>"
   ]
  },
  {
   "cell_type": "markdown",
   "id": "e5a4cd1f",
   "metadata": {},
   "source": [
    "### c.  A problematic wave-function"
   ]
  },
  {
   "cell_type": "markdown",
   "id": "f942f706",
   "metadata": {},
   "source": [
    "Although we are getting reasonable results with our wave-function there is something that is qualitatively problematic about it. You might notice that our local energy has a lot of very large spikes (and the histogram has some pretty extreme values).  This is a sign that the wave-function isn't very good.  Let's try to understand what's going on focusing on $\\alpha=0.5$.\n",
    "\n",
    "Consider the pieces of our integrands \n",
    "\n",
    "$$\n",
    "\\tilde{T}=\\int r^2 |\\Psi(r)|^2  \\frac{\\nabla^2 \\Psi(r)}{\\Psi(r) }\n",
    "$$\n",
    "\n",
    "$$\n",
    "\\tilde{V}=\\int r^2 |\\Psi(r)|^2 V(r) \n",
    "$$\n",
    "\n",
    "$$\n",
    "\\int r^2 |\\Psi(r)|^2 E_L(r)  = \\tilde{T} + \\tilde{V}\n",
    "$$\n",
    "\n",
    "\n",
    "and plot them function of `xs=np.linspace(-2,2,100)` with $y=z=0$ all on the same plot. \n",
    "\n",
    "In addition, plot just\n",
    "$$\n",
    "\\int r^2 |\\Psi(r)|^2 \n",
    "$$\n",
    "\n",
    "What you should notice is that the local energy diverges at the proton locations because the potential energy gets very negative and the kinetic energy doesn't compensate.  Both the large potential energy and the lack of compensating kinetic energy are coming because the probability of the electron being near the protons is non-trivial due to the flat wave-function near the proton locations. \n"
   ]
  },
  {
   "cell_type": "markdown",
   "id": "f1832581",
   "metadata": {},
   "source": [
    " <div><img src=\"https://clark.physics.illinois.edu/246img/AnsStart.svg\" width=200 align=left alt=\"Answer (end)\"></img><br></div>"
   ]
  },
  {
   "cell_type": "code",
   "execution_count": null,
   "id": "db70f323",
   "metadata": {
    "tags": [
     "answer-cell"
    ]
   },
   "outputs": [],
   "source": [
    "###ANSWER HERE"
   ]
  },
  {
   "cell_type": "markdown",
   "id": "8fb62a08",
   "metadata": {},
   "source": [
    " <div><img src=\"https://clark.physics.illinois.edu/246img/AnsEnd.svg\" width=200 align=left alt=\"Answer (end)\"></img><br></div>"
   ]
  },
  {
   "cell_type": "markdown",
   "id": "a153caae",
   "metadata": {},
   "source": [
    "### d. A Jastrow"
   ]
  },
  {
   "cell_type": "markdown",
   "id": "f1d8fd40",
   "metadata": {},
   "source": [
    "In order to fix this broken wave-function we should add a term to it which keeps the electron and proton away from each other.  In fact, we can analytically calculate what the correct term should be in the limit where the electron-proton distance is small.  \n",
    "\n",
    "We can add a Jastrow factor \n",
    "\n",
    "\n",
    "$$\n",
    "\\Psi_{new}(r;\\alpha,\\beta)=\\Psi_{old}(r;\\alpha)\\exp[J_{ep}(r;\\beta)] \n",
    "$$\n",
    "\n",
    "where \n",
    "\n",
    "$$\n",
    "J_{ep}=-\\frac{a_{ep}|r_i-I_j|} {1+b_{ep}|r_i-I_j|} \n",
    "$$ \n",
    "\n",
    "where $a_{ep}=1$ are chosen to satisfy the electron-proton cusp conditions, respectively.\n",
    "\n",
    "The parameter $\\beta$ gives additional freedom through the relations,\n",
    "\n",
    "$$\n",
    "b_{ep} = \\left( \\frac{a_{ep}}{\\beta}\\right)^{1/2} \n",
    "$$\n",
    "\n",
    "Implement this Jastrow function and again plot the integrand terms above (including a third separate plot which just shows the local energy). What do you notice that's different?\n",
    "\n",
    "\n"
   ]
  },
  {
   "cell_type": "markdown",
   "id": "ce8b4748",
   "metadata": {},
   "source": [
    " <div><img src=\"https://clark.physics.illinois.edu/246img/AnsStart.svg\" width=200 align=left alt=\"Answer (end)\"></img><br></div>"
   ]
  },
  {
   "cell_type": "code",
   "execution_count": null,
   "id": "39c58a98",
   "metadata": {
    "tags": [
     "answer-cell"
    ]
   },
   "outputs": [],
   "source": [
    "###ANSWER HERE"
   ]
  },
  {
   "cell_type": "markdown",
   "id": "e3ccdb5f",
   "metadata": {},
   "source": [
    " <div><img src=\"https://clark.physics.illinois.edu/246img/AnsEnd.svg\" width=200 align=left alt=\"Answer (end)\"></img><br></div>"
   ]
  },
  {
   "cell_type": "markdown",
   "id": "fe293f37",
   "metadata": {},
   "source": [
    "### e. Using our Jastrow"
   ]
  },
  {
   "cell_type": "markdown",
   "id": "5a63e31c",
   "metadata": {},
   "source": [
    "Now we are going to go ahead and use our Jastrow factor.  Again, compute the value of our wavefunction with parameters $\\alpha=0.5$ and $\\beta=0.1$  Plot he local energy as a function of Monte Carlo step and the histogram.  What do you notice now that is different from the earlier plots without the Jastrow?"
   ]
  },
  {
   "cell_type": "markdown",
   "id": "f8de806f",
   "metadata": {},
   "source": [
    " <div><img src=\"https://clark.physics.illinois.edu/246img/AnsStart.svg\" width=200 align=left alt=\"Answer (end)\"></img><br></div>"
   ]
  },
  {
   "cell_type": "code",
   "execution_count": null,
   "id": "83bdf45b",
   "metadata": {
    "tags": [
     "answer-cell"
    ]
   },
   "outputs": [],
   "source": [
    "###ANSWER HERE"
   ]
  },
  {
   "cell_type": "markdown",
   "id": "aefe0e48",
   "metadata": {},
   "source": [
    " <div><img src=\"https://clark.physics.illinois.edu/246img/AnsEnd.svg\" width=200 align=left alt=\"Answer (end)\"></img><br></div>"
   ]
  },
  {
   "cell_type": "markdown",
   "id": "10e7f055",
   "metadata": {},
   "source": [
    "### f.  Getting the energy again "
   ]
  },
  {
   "cell_type": "markdown",
   "id": "37f1dda6",
   "metadata": {},
   "source": [
    "Now we want to find the best energy again for this phase point.  We now have to search over the variational parameters $\\alpha$ and $\\beta$.  Using `alphas=np.linspace(0.01,0.5,20)` and `betas=np.linspace(0.1,10.0,20)` search over the relevant space.  For every `beta` plot a line which should be energy versus `alpha`.  Also, store the energies in such a way that you can report the minimum over all the energies that you see (this is a little bit incorrect to do because of statistical fluctuations - don't do it exactly this way for a research project).  I am using 1000 sweeps per simulation.  The exact answer (see wikipedia) is -0.597.  You should find that you get something close. \n",
    "\n",
    "I am labelling each of my lines with `plt.plot(alphas,energies[alpha],label='beta='+str(beta))` and then pushing the legend outside of the box area with  `plt.legend(bbox_to_anchor=(1.05, 1), loc='upper left')`\n",
    "\n",
    "Finally take the final wave-function and plot it as a function of $x$"
   ]
  },
  {
   "cell_type": "markdown",
   "id": "add46394",
   "metadata": {},
   "source": [
    " <div><img src=\"https://clark.physics.illinois.edu/246img/AnsStart.svg\" width=200 align=left alt=\"Answer (end)\"></img><br></div>"
   ]
  },
  {
   "cell_type": "code",
   "execution_count": null,
   "id": "2c551626",
   "metadata": {
    "tags": [
     "answer-cell"
    ]
   },
   "outputs": [],
   "source": [
    "###ANSWER HERE"
   ]
  },
  {
   "cell_type": "code",
   "execution_count": null,
   "id": "3c21f0a4",
   "metadata": {
    "tags": [
     "answer-cell"
    ]
   },
   "outputs": [],
   "source": [
    "###ANSWER HERE"
   ]
  },
  {
   "cell_type": "code",
   "execution_count": null,
   "id": "adc5fa76",
   "metadata": {
    "tags": [
     "answer-cell"
    ]
   },
   "outputs": [],
   "source": [
    "###ANSWER HERE"
   ]
  },
  {
   "cell_type": "markdown",
   "id": "b876a68d",
   "metadata": {},
   "source": [
    " <div><img src=\"https://clark.physics.illinois.edu/246img/AnsEnd.svg\" width=200 align=left alt=\"Answer (end)\"></img><br></div>"
   ]
  },
  {
   "cell_type": "markdown",
   "id": "8ca2c14b",
   "metadata": {},
   "source": [
    "### g.  Bonding"
   ]
  },
  {
   "cell_type": "markdown",
   "id": "46b1ef0b",
   "metadata": {},
   "source": [
    "All of this work was to get the energy of the proton at a single bond-length. Now we would like to stretch (and compress) the bond and also get the energies. If there is a local minima at these lengths (and the energy at large separation is larger then this local minima), then we would expect that the molecule should bind.  \n",
    "\n",
    "Go ahead and compute for `L=[1.0,2.0,3.0]` the minima energy (optimizing for each one over all $\\alpha$ and $\\beta$) You already have the $L=2$ point.  Plot this as a function of L and see if you get a local minima that would suggest bonding.  You will probably find it useful to encapsulate the previous exercise into a function. \n",
    "\n",
    "You can compare it against the exact energy with \n",
    "```\n",
    "cation=np.loadtxt(\"data\",delimiter=\",\")\n",
    "plt.plot(cation[:,0],cation[:,1])\n",
    "```\n",
    "\n",
    "You may notice that as you begin to stretch the molecule, things start to fall apart.  Why is that?  "
   ]
  },
  {
   "cell_type": "markdown",
   "id": "f48bc9f3",
   "metadata": {},
   "source": [
    " <div><img src=\"https://clark.physics.illinois.edu/246img/AnsStart.svg\" width=200 align=left alt=\"Answer (end)\"></img><br></div>"
   ]
  },
  {
   "cell_type": "code",
   "execution_count": null,
   "id": "fcf0ecef",
   "metadata": {
    "tags": [
     "answer-cell"
    ]
   },
   "outputs": [],
   "source": [
    "###ANSWER HERE"
   ]
  },
  {
   "cell_type": "markdown",
   "id": "11fabbc8",
   "metadata": {},
   "source": [
    " <div><img src=\"https://clark.physics.illinois.edu/246img/AnsEnd.svg\" width=200 align=left alt=\"Answer (end)\"></img><br></div>"
   ]
  },
  {
   "cell_type": "markdown",
   "id": "21d0262c",
   "metadata": {},
   "source": [
    "## Exercise 3. Hydrogen Molecule"
   ]
  },
  {
   "cell_type": "markdown",
   "id": "16041e62",
   "metadata": {},
   "source": [
    "Now that we've made some good progress with one electron, let's go ahead and modify things to work with the Hydrogen molecule and two electrons - a single spin-up and spin-down. \n",
    "\n",
    "Things we have to change:\n",
    "\n",
    "* Add an additional electron-electron Jastrow term\n",
    "\n",
    "* Make sure your functions work with two electrons - pay special attention that your Variatonal Monte Carlo is choosing 6 (not 3) random numbers to add.\n",
    "\n",
    "Everything else should be essentially the same. "
   ]
  },
  {
   "cell_type": "markdown",
   "id": "8fb0b4b2",
   "metadata": {},
   "source": [
    "### a. Modify the Jastrow"
   ]
  },
  {
   "cell_type": "markdown",
   "id": "9515337f",
   "metadata": {},
   "source": [
    "We now need a Jastrow factor for electrons as well:\n",
    "\n",
    "$$\n",
    "\\Psi_{new}(r_1,r_2;\\alpha,\\beta)=\\Psi_{old}(r_1,r_2;\\alpha,\\beta )\\exp[J_{ee}(r_1,r_2;\\beta)]\n",
    "$$ \n",
    "\n",
    "where \n",
    "\n",
    "\n",
    "$$\n",
    "J_{ee}=\\frac{a_{ee}|r_1-r_2|} {1+b_{ee}|r_1-r_2|} \n",
    "$$ \n",
    "\n",
    "where $a_{ee}=1/2$ ,\n",
    "\n",
    "The parameter $\\beta$ gives additional freedom through the relations,\n",
    "\n",
    "$$\n",
    "b_{ee} = \\left( \\frac{a_{ee}}{\\beta} \\right)^{1/2}\n",
    "$$\n",
    "\n",
    "In addition, make sure your other Jastrow works for two electrons as does your wavefunction -  i.e. there should now be a term that goes as $\\exp[-\\alpha (r_1^2 + r_2^2)$]\n",
    "\n",
    "You can check it by making sure that \n",
    "```\n",
    "L=2.0\n",
    "p_pos=np.array([[-L/2,0,0],[L/2,0,0]])\n",
    "e_pos=np.array([[0.3,-0.5,2.1],[1.2,-0.2,1.1]])\n",
    "params=WavefunctionParams(alpha=0.5,beta=0.2)\n",
    "print(Psi(e_pos,p_pos,params))\n",
    "```\n",
    "gives you 0.007040289115058886\n"
   ]
  },
  {
   "cell_type": "markdown",
   "id": "92f1e0a9",
   "metadata": {},
   "source": [
    " <div><img src=\"https://clark.physics.illinois.edu/246img/AnsStart.svg\" width=200 align=left alt=\"Answer (end)\"></img><br></div>"
   ]
  },
  {
   "cell_type": "code",
   "execution_count": null,
   "id": "597eef74",
   "metadata": {
    "tags": [
     "answer-cell"
    ]
   },
   "outputs": [],
   "source": [
    "###ANSWER HERE"
   ]
  },
  {
   "cell_type": "markdown",
   "id": "78cb5660",
   "metadata": {},
   "source": [
    " <div><img src=\"https://clark.physics.illinois.edu/246img/AnsEnd.svg\" width=200 align=left alt=\"Answer (end)\"></img><br></div>"
   ]
  },
  {
   "cell_type": "markdown",
   "id": "1335a700",
   "metadata": {},
   "source": [
    "### b.  Modify your local energy "
   ]
  },
  {
   "cell_type": "markdown",
   "id": "d7dc4096",
   "metadata": {},
   "source": [
    "Make the modifications to the Laplacian and the potential so it correctly computes the actual energy of your system. Make sure you use two particles in your laplacian and your potential energy including the electron-electron interaction now. \n",
    "\n",
    "You can check it by doing \n",
    "```\n",
    "L=2.0\n",
    "p_pos=np.array([[-L/2,0,0],[L/2,0,0]])\n",
    "e_pos=np.array([[0.3,-0.5,2.1],[1.2,-0.2,1.1]])\n",
    "params=WavefunctionParams(alpha=0.5,beta=0.2)\n",
    "print(Laplacian(e_pos, p_pos, params, Psi))\n",
    "print(VPsiOverPsi(e_pos, p_pos))\n",
    "print(LocalEnergy(e_pos, p_pos, params, Psi))\n",
    "```\n",
    "\n",
    "and get \n",
    "\n",
    "```\n",
    "0.012657175654795516\n",
    "-0.8976856497576701\n",
    "-1.7965958683538314\n",
    "```"
   ]
  },
  {
   "cell_type": "markdown",
   "id": "a9eb2049",
   "metadata": {},
   "source": [
    " <div><img src=\"https://clark.physics.illinois.edu/246img/AnsStart.svg\" width=200 align=left alt=\"Answer (end)\"></img><br></div>"
   ]
  },
  {
   "cell_type": "code",
   "execution_count": null,
   "id": "440fbe89",
   "metadata": {
    "tags": [
     "answer-cell"
    ]
   },
   "outputs": [],
   "source": [
    "###ANSWER HERE"
   ]
  },
  {
   "cell_type": "markdown",
   "id": "f3e4a1a2",
   "metadata": {},
   "source": [
    " <div><img src=\"https://clark.physics.illinois.edu/246img/AnsEnd.svg\" width=200 align=left alt=\"Answer (end)\"></img><br></div>"
   ]
  },
  {
   "cell_type": "markdown",
   "id": "c420aad5",
   "metadata": {},
   "source": [
    "### c. Do a Monte Carlo"
   ]
  },
  {
   "cell_type": "markdown",
   "id": "ead29e4c",
   "metadata": {},
   "source": [
    "Modify your Monte Carlo to make sure it's moving two electrons  Run your Monte Carlo on \n",
    "```\n",
    "L=2.0\n",
    "p_pos=np.array([[-L/2,0,0],[L/2,0,0]])\n",
    "e_pos=np.array([[0.3,-0.5,2.1],[1.2,-0.2,1.1]])\n",
    "params=WavefunctionParams(alpha=0.5,beta=0.2)\n",
    "```\n",
    "and make sure that you get something within error bars of \n",
    "```\n",
    "-0.34209397913287004  +/- 0.019897206346676632\n",
    "```\n",
    "\n",
    "\n"
   ]
  },
  {
   "cell_type": "markdown",
   "id": "a0140eca",
   "metadata": {},
   "source": [
    " <div><img src=\"https://clark.physics.illinois.edu/246img/AnsStart.svg\" width=200 align=left alt=\"Answer (end)\"></img><br></div>"
   ]
  },
  {
   "cell_type": "code",
   "execution_count": null,
   "id": "432b959f",
   "metadata": {
    "tags": [
     "answer-cell"
    ]
   },
   "outputs": [],
   "source": [
    "###ANSWER HERE"
   ]
  },
  {
   "cell_type": "markdown",
   "id": "0c23df19",
   "metadata": {},
   "source": [
    " <div><img src=\"https://clark.physics.illinois.edu/246img/AnsEnd.svg\" width=200 align=left alt=\"Answer (end)\"></img><br></div>"
   ]
  },
  {
   "cell_type": "markdown",
   "id": "0da8a67e",
   "metadata": {},
   "source": [
    "### d. Get the best $\\alpha, \\beta$ at this bond length"
   ]
  },
  {
   "cell_type": "markdown",
   "id": "7538407c",
   "metadata": {},
   "source": [
    "Using `betas=np.linspace(0.1,10.0,20)` and `alphas=np.linspace(0.01,0.5,20)` get the optimal $\\alpha, \\beta$ as well as the lowest energy at \n",
    "\n",
    "```\n",
    "L=2.0\n",
    "p_pos=np.array([[-L/2,0,0],[L/2,0,0]])\n",
    "```"
   ]
  },
  {
   "cell_type": "markdown",
   "id": "5223bf39",
   "metadata": {},
   "source": [
    " <div><img src=\"https://clark.physics.illinois.edu/246img/AnsStart.svg\" width=200 align=left alt=\"Answer (end)\"></img><br></div>"
   ]
  },
  {
   "cell_type": "code",
   "execution_count": null,
   "id": "49c37935",
   "metadata": {
    "tags": [
     "answer-cell"
    ]
   },
   "outputs": [],
   "source": [
    "###ANSWER HERE"
   ]
  },
  {
   "cell_type": "code",
   "execution_count": null,
   "id": "e7696363",
   "metadata": {
    "tags": [
     "answer-cell"
    ]
   },
   "outputs": [],
   "source": [
    "###ANSWER HERE"
   ]
  },
  {
   "cell_type": "code",
   "execution_count": null,
   "id": "54e5b975",
   "metadata": {
    "tags": [
     "answer-cell"
    ]
   },
   "outputs": [],
   "source": [
    "###ANSWER HERE"
   ]
  },
  {
   "cell_type": "markdown",
   "id": "1140edd6",
   "metadata": {},
   "source": [
    " <div><img src=\"https://clark.physics.illinois.edu/246img/AnsEnd.svg\" width=200 align=left alt=\"Answer (end)\"></img><br></div>"
   ]
  },
  {
   "cell_type": "markdown",
   "id": "be810e38",
   "metadata": {},
   "source": [
    "### e.  Bonding "
   ]
  },
  {
   "cell_type": "markdown",
   "id": "59f391c7",
   "metadata": {},
   "source": [
    "Now compute the energy for the lengths `Ls=[1.0,1.424,2.0,3.0,4.0,5.0,6.0]`.  You can compare them with the exact answer\n",
    "```\n",
    "data_H2=np.loadtxt(\"data_H2\",delimiter=\",\")\n",
    "plt.plot(data_H2[:,0],data_H2[:,1])\n",
    "```"
   ]
  },
  {
   "cell_type": "markdown",
   "id": "9c363621",
   "metadata": {},
   "source": [
    "You may notice that you are getting reasonable answers near the equilibrium bond length but getting something that is not reasonable at larger bond stretching.  Why is this and how could you modify your wave-function to do a better job."
   ]
  },
  {
   "cell_type": "markdown",
   "id": "5589f102",
   "metadata": {},
   "source": [
    " <div><img src=\"https://clark.physics.illinois.edu/246img/AnsStart.svg\" width=200 align=left alt=\"Answer (end)\"></img><br></div>"
   ]
  },
  {
   "cell_type": "code",
   "execution_count": null,
   "id": "7eebf208",
   "metadata": {
    "tags": [
     "answer-cell"
    ]
   },
   "outputs": [],
   "source": [
    "###ANSWER HERE"
   ]
  },
  {
   "cell_type": "code",
   "execution_count": null,
   "id": "09df6f31",
   "metadata": {
    "tags": [
     "answer-cell"
    ]
   },
   "outputs": [],
   "source": [
    "###ANSWER HERE"
   ]
  },
  {
   "cell_type": "code",
   "execution_count": null,
   "id": "f51c1e61",
   "metadata": {
    "tags": [
     "answer-cell"
    ]
   },
   "outputs": [],
   "source": [
    "###ANSWER HERE"
   ]
  },
  {
   "cell_type": "markdown",
   "id": "cadbd18c",
   "metadata": {},
   "source": [
    " <div><img src=\"https://clark.physics.illinois.edu/246img/AnsEnd.svg\" width=200 align=left alt=\"Answer (end)\"></img><br></div>"
   ]
  },
  {
   "cell_type": "markdown",
   "id": "b649ffa1",
   "metadata": {},
   "source": [
    "**Acknowledgements:**\n",
    "* Bryan Clark (original)\n",
    "\n",
    "© Copyright 2025\n"
   ]
  },
  {
   "cell_type": "markdown",
   "id": "0a577f36",
   "metadata": {},
   "source": []
  }
 ],
 "metadata": {
  "kernelspec": {
   "display_name": "Python 3",
   "language": "python",
   "name": "python3"
  },
  "language_info": {
   "codemirror_mode": {
    "name": "ipython",
    "version": 3
   },
   "file_extension": ".py",
   "mimetype": "text/x-python",
   "name": "python",
   "nbconvert_exporter": "python",
   "pygments_lexer": "ipython3",
   "version": "3.9.6"
  }
 },
 "nbformat": 4,
 "nbformat_minor": 5
}
