{
 "cells": [
  {
   "cell_type": "markdown",
   "metadata": {},
   "source": [
    "# Particle with a Finite Potential"
   ]
  },
  {
   "cell_type": "markdown",
   "metadata": {},
   "source": [
    "* **Author:**\n",
    "\n",
    "* **Date:**\n",
    "\n",
    "* **Time spent on this assignment:**"
   ]
  },
  {
   "cell_type": "code",
   "execution_count": 2,
   "metadata": {
    "tags": [
     "hide-cell"
    ]
   },
   "outputs": [
    {
     "data": {
      "text/plain": [
       "datetime.datetime(2024, 8, 25, 10, 46, 55, 981620)"
      ]
     },
     "execution_count": 2,
     "metadata": {},
     "output_type": "execute_result"
    }
   ],
   "source": [
    "import numpy as np\n",
    "import scipy\n",
    "import matplotlib.pyplot as plt\n",
    "import math\n",
    "from matplotlib.animation import FuncAnimation\n",
    "from IPython.display import HTML\n",
    "import matplotlib.animation as animation\n",
    "from IPython.display import HTML\n",
    "def resetMe(keepList=[]):\n",
    "    ll=%who_ls\n",
    "    keepList=keepList+['FuncAnimation','HTML','resetMe','scipy','np','plt','math','jax','jnp','jit','grad','HTML','animation','animateMe_singlePendula']\n",
    "    for iiii in keepList:\n",
    "        if iiii in ll:\n",
    "            ll.remove(iiii)\n",
    "    for iiii in ll:\n",
    "        jjjj=\"^\"+iiii+\"$\"\n",
    "        %reset_selective -f {jjjj}\n",
    "    ll=%who_ls\n",
    "    plt.rcParams.update({\"font.size\": 14})\n",
    "    return\n",
    "resetMe()\n",
    "import datetime;datetime.datetime.now()"
   ]
  },
  {
   "cell_type": "markdown",
   "metadata": {},
   "source": [
    "In this assignment, we will consistently use grids and observables that we will set up in this way. This is very similar to how you set things for the particle in the box assignment.  We've also updated your animation code to include a skip parameter which will allow you to only show every skip'th frame.  This will make your animation generate much faster (if you choose a big skip).  It can't be called like\n",
    "\n",
    "```\n",
    "skip=10\n",
    "animation = FuncAnimation(fig, update, frames=len(arrays)//skip, interval=10*skip, fargs=(max_value,skip),repeat=False)\n",
    "```"
   ]
  },
  {
   "cell_type": "code",
   "execution_count": 3,
   "metadata": {},
   "outputs": [],
   "source": [
    "def SetupGrid(L,delta_x):\n",
    "    ns=np.array(range(0,int((L+2*delta_x)//delta_x)))\n",
    "    xs=ns*delta_x-L/2\n",
    "    return xs\n",
    "\n",
    "def SetupObservables(xs,delta_x):\n",
    "    X=np.diag(xs)\n",
    "    P=(np.diag([1.j/(2*delta_x) for i in range(len(xs)-1)],k=1)+np.diag([-1.j/(2*delta_x) for i in range(len(xs)-1)],k=-1))\n",
    "\n",
    "    P2=np.zeros_like(P)\n",
    "    for i in range(len(xs)):\n",
    "        P2[i,i]=2.0/delta_x**2\n",
    "        if i+1<len(xs):\n",
    "            P2[i,i+1]=-1.0/delta_x**2\n",
    "            P2[i+1,i]=-1.0/delta_x**2  \n",
    "    return X,P,P2\n",
    "\n",
    "\n",
    "\n",
    "def update(frame, max_value,skip=1):\n",
    "    plt.cla()  # Clear the current plot\n",
    "    plt.plot(xs, np.abs(arrays[::skip][frame])**2)  # Plot the current array\n",
    "    plt.axvline(arrays[::skip][frame]@X@arrays[::skip][frame].T.conjugate())\n",
    "    plt.ylim(0, max_value)  # Set the y-axis limit\n",
    "    plt.xlabel('x')\n",
    "    plt.ylabel('Value')\n",
    "    plt.title(f'Frame {skip*frame+1}/{len(arrays)}')  # Display the frame number"
   ]
  },
  {
   "cell_type": "markdown",
   "metadata": {},
   "source": [
    "## Exercise 1. Particle in a Finite Well"
   ]
  },
  {
   "cell_type": "markdown",
   "metadata": {},
   "source": [
    "In the previous assignment we worked on a particle in a box with infinite walls.  In this assignment, we are going to work instead with a potential well again looking at properties such as eigenstates and time dynamics."
   ]
  },
  {
   "cell_type": "markdown",
   "metadata": {},
   "source": [
    "### a. Setting up the Hamiltonian"
   ]
  },
  {
   "cell_type": "markdown",
   "metadata": {},
   "source": [
    "\n",
    "Consider a particle in a box of length 40 spanning \n",
    "* $-10 \\leq x \\leq 10$ at $V=0$ \n",
    "* $-20 \\leq x \\leq -10$ at $V=0.5$\n",
    "* $10 \\leq x \\leq 20$ at $V=0.5$\n",
    "\n",
    "Generate a discretize `xs` with the same $\\delta x=0.01$ that you used previously - i.e. `xs=SetupGrid(L,delta_x)`\n",
    "Also generate a numpy array `V` which has the correct potential at each value of $x$.  Verify this all looks correct by plotting $V$ vs. $x$."
   ]
  },
  {
   "cell_type": "markdown",
   "metadata": {},
   "source": [
    "<div><img src=\"https://clark.physics.illinois.edu/246img/AnsStart.svg\" width=200 align=left alt=\"Answer (start)\"></img><br></div>"
   ]
  },
  {
   "cell_type": "code",
   "execution_count": 1,
   "metadata": {},
   "outputs": [],
   "source": [
    "### answer here"
   ]
  },
  {
   "cell_type": "markdown",
   "metadata": {},
   "source": [
    "<div><img src=\"https://clark.physics.illinois.edu/246img/AnsEnd.svg\" width=200 align=left alt=\"Answer (end)\"></img><br></div>"
   ]
  },
  {
   "cell_type": "markdown",
   "metadata": {},
   "source": [
    "We know need to again set up the Hamiltonian \n",
    "\n",
    "$$ H \\equiv \\left( -\\frac{\\hbar^2}{2m} \\frac{\\partial^2}{\\partial x^2}  + V \\right)  $$\n",
    "\n",
    "You already know how to turn the first term into a matrix.  Because we are working in the $x$ basis, the $V$ term is also very simple:  it is just a matrix with $V(x)$ on the diagonal.   To get the matrix for the total Hamiltonian, we just add these two matrices.\n",
    "\n",
    "Set up this Hamiltonian, and then get the eigenvalues and eigenvectors.\n",
    "\n",
    "Plot the first 20 eigenvalues.  You should notice that there is two qualitatively different behavior happening that switches over right when the eigenvalue energy gets greater then 0.5 (where our potential wall is.)\n"
   ]
  },
  {
   "cell_type": "markdown",
   "metadata": {},
   "source": [
    "<div><img src=\"https://clark.physics.illinois.edu/246img/AnsStart.svg\" width=200 align=left alt=\"Answer (start)\"></img><br></div>"
   ]
  },
  {
   "cell_type": "code",
   "execution_count": 2,
   "metadata": {},
   "outputs": [],
   "source": [
    "### answer here"
   ]
  },
  {
   "cell_type": "code",
   "execution_count": 3,
   "metadata": {},
   "outputs": [],
   "source": [
    "### answer here"
   ]
  },
  {
   "cell_type": "markdown",
   "metadata": {},
   "source": [
    "<div><img src=\"https://clark.physics.illinois.edu/246img/AnsEnd.svg\" width=200 align=left alt=\"Answer (end)\"></img><br></div>"
   ]
  },
  {
   "cell_type": "markdown",
   "metadata": {},
   "source": [
    "Now we would like to plot the energies in a slightly different way and plot the eigenvectors on top of them.  Let's start by again plotting the potential as a function of distance.  \n",
    "\n",
    "On top of this potential we are going to plot the lowest 10 energy levels.  Plot them with `plt.axhline(values,linestyle='--',alpha=0.5)`  You should notice that some of the energies are less then the potential and some of them more then the potential.\n",
    "\n",
    "\n",
    "Now on top of this, we want to plot the lowest 10 eigenstates.   To make them easier to understand, let's shift each eigensstate vertically by adding `e[i]` to the i'th eigenstate - i.e. `plt.plot(v[:,i]+e[i])`.  Notice that if you do this, you have each eigenstate whose origin is centered on their energy. \n"
   ]
  },
  {
   "cell_type": "markdown",
   "metadata": {},
   "source": [
    "<div><img src=\"https://clark.physics.illinois.edu/246img/AnsStart.svg\" width=200 align=left alt=\"Answer (start)\"></img><br></div>"
   ]
  },
  {
   "cell_type": "code",
   "execution_count": 4,
   "metadata": {},
   "outputs": [],
   "source": [
    "### answer here"
   ]
  },
  {
   "cell_type": "markdown",
   "metadata": {},
   "source": [
    "<div><img src=\"https://clark.physics.illinois.edu/246img/AnsEnd.svg\" width=200 align=left alt=\"Answer (end)\"></img><br></div>"
   ]
  },
  {
   "cell_type": "markdown",
   "metadata": {},
   "source": [
    "### b.  Eigenstates in the forbidden region "
   ]
  },
  {
   "cell_type": "markdown",
   "metadata": {},
   "source": [
    "We now want to look at the eigenstates in the forbidden region.  To begin with, let's just qualitatively notice the difference between the eigenstates which are lower in energy then the finite wall and the ones that are higher in energy then the finite wall.  \n",
    "\n",
    "\n",
    "Q:  As the wave-function goes to $x>10$, do the eigenstates approach zero  \n",
    "* for the eigenstates whose energy is greater then 0.5\n",
    "* for the eigenstates whose energy is less then 0.5\n",
    "\n",
    "When the energy is larger then the potential, notice that the larger tha value of (E-V) (at a given $x$), the shorter the wavelength of the wave. \n",
    "\n",
    "When the energy is smaller then the potential (i.e. in the forbidden region), we know that the eigenstate should decay exponentially.  \n",
    "\n",
    "We have learned that when an eigenstate is in the forbidden region it should decay exponentially.  \n",
    "That means that if we look at any of the eigenstates with $e_i<0.5$, we should find that they approach zero exponentially.  It might look that way by eye, but we want to check this explicitly.  \n",
    "\n",
    "First, we need to learn how to extract the part of the wave-function where the energy is less then 0.5.  To do this, we should define a mask - i.e. `mask=xs>10` to focus on the forbidden region. \n",
    "\n",
    "Then we can plot the absolute value of the eigenstate (because the eigenstate can approach zero from below) against xs only in this region - i.e. `plt.plot(xs[mask],v[:,0][mask])` for eigenstates 0,2,4.  Label each of your plots by including as a keyword `label=n` and then add a `plt.legend()` at the end. \n",
    "\n",
    "Then go ahead and plot it on a log-scale - `plt.yscale('log')`.  If it looks linear on a log scale, this means that the wave-function is decaying exponentially.  In practice, it may look like it diverges from that linear curve at large $x$.  This is essentially because you are running into machine precision.  *Notice that the lower-energy eigenstates have larger slopes (i.e. decay faster);  this is because they are deeper in the forbidden region.\n",
    "\n",
    "\n",
    "We can actually quantify this (*this part is optional but interesting if you want to show that you get exactly the correct exponential decay*).  Our expectation is that the wave-function goes as $e^{-kx}$ where\n",
    "\n",
    "$$k=\\sqrt{\\frac{2m(E-V_0)}{\\hbar^2}}$$\n",
    "\n",
    "This means that if we plot the slopes squared of these three lines versus $e_i-0.5$ where $e_i$ is the eigenstate energy, it should be a straight line with a slope of 2. \n",
    "\n",
    "In order to get the slpoes of the three lines, we can use python to fit them.  Again let's define a mask that is simultaneously both in the forbidden region and not at large $x$ where the machine precision starts to cause trouble: `mask=np.logical_and(xs>10,xs<16)`\n",
    "\n",
    "Now use `np.polyfit(x,y,1)[0]` to get the slope.  Remember that `y` needs to be the log of the wave-function (appropriately masked).\n",
    "\n",
    "Then plot the slope-squared versus the energy difference from 0.5  You should fine a straight line."
   ]
  },
  {
   "cell_type": "markdown",
   "metadata": {},
   "source": [
    "<div><img src=\"https://clark.physics.illinois.edu/246img/AnsStart.svg\" width=200 align=left alt=\"Answer (start)\"></img><br></div>"
   ]
  },
  {
   "cell_type": "code",
   "execution_count": 5,
   "metadata": {},
   "outputs": [],
   "source": [
    "### answer here"
   ]
  },
  {
   "cell_type": "markdown",
   "metadata": {},
   "source": [
    "<div><img src=\"https://clark.physics.illinois.edu/246img/AnsEnd.svg\" width=200 align=left alt=\"Answer (end)\"></img><br></div>"
   ]
  },
  {
   "cell_type": "markdown",
   "metadata": {},
   "source": [
    "### c. Dynamics "
   ]
  },
  {
   "cell_type": "markdown",
   "metadata": {},
   "source": [
    "Like we did in the particle in the box, we are going to do some dynamics. \n",
    "\n",
    "Because we are going to do some non-trivial time evolution in this assignment, it's worth enapsulating your time-evolution into two functions:\n",
    "\n",
    "* `TimeEvolutionOperator(H,delta_t)` should take the Hamiltonian and your time step and return $e^{-iHt}$.   It's important to note that for each Hamiltonian, you only need to compute this time-evolution operator once even if you are time-evolving many different wave-functions. If you are careful about this, you will save yourself significant gime.\n",
    "\n",
    "* `TimeEvolution(psi,M,steps)` which takes the initial wave-function `psi`, the time-evolution operator `M` and the number of steps and returns a list of arrays that include the snapshot of the wave-function at every time step. \n",
    "\n",
    "We also want to do an update of the update function so that the animation is slightly more informative. In particular, we are going to want to plot some information about the potential and energy of our state.  Because our y-axis is currently probability (which is at most 1), we will need to rescale the energy (which can get large) so that everything sanely fits on the same axis. To do this, we are going to rescale all our energies by `scale=max_value/energy` where `max_value` is the largest probability your wave-function gets (which we've already been calculating for animation) and `energy` is the energy of our initial wave-function, which you can compute (recall the energy doesn't change as a function of time). \n",
    "\n",
    "**Modifications of the Update Function**\n",
    "*  Add a line to compute the energy as well as the relevant scale\n",
    "\n",
    "*  Plot the Harmonic Oscillator potential on your animation as `plt.plot(xs,potential*scale)` \n",
    "\n",
    "*  Draw a red-dashed line at the energy of our state - i.e. `plt.axhline(energy*scale)`\n",
    "\n",
    "* Increaese the `ylim` to 1.5 of max_value\n",
    "\n",
    "\n",
    "We will start with the wave-function (same superposition of eigenstates as our particle-in-the-box but somewhat different eigenstates so a somewhat different wave-function)\n",
    "\n",
    "$$|\\Psi\\rangle = \\sqrt{0.1}|v_0\\rangle + \\sqrt{0.25}|v_1\\rangle + i \\sqrt{0.65}|v_2\\rangle $$\n",
    "\n",
    "Go ahead and animate this wave-function as a function of time again for a time-step $\\delta t=0.5$ and out to time $T=200$."
   ]
  },
  {
   "cell_type": "markdown",
   "metadata": {},
   "source": [
    "<div><img src=\"https://clark.physics.illinois.edu/246img/AnsStart.svg\" width=200 align=left alt=\"Answer (start)\"></img><br></div>"
   ]
  },
  {
   "cell_type": "code",
   "execution_count": 6,
   "metadata": {},
   "outputs": [],
   "source": [
    "### answer here"
   ]
  },
  {
   "cell_type": "markdown",
   "metadata": {},
   "source": [
    "<div><img src=\"https://clark.physics.illinois.edu/246img/AnsEnd.svg\" width=200 align=left alt=\"Answer (end)\"></img><br></div>"
   ]
  },
  {
   "cell_type": "markdown",
   "metadata": {},
   "source": [
    "If you go back and look at your animation from the particle-in-a-box, it actually should look very similar.  The main different here is that the particle has leaked out slightly of the hard box (-10 to 10) and so you see some weight out there. \n",
    "\n",
    "Let's also go ahead and plot some observables.  Like you did in the particle-in-a-box go ahead and plot\n",
    "\n",
    "* the momentum and position as a function of time (on the same subplot)\n",
    "* the phase plot of momentum vs position\n",
    "* the energy as a function of time (making sure your scale is sane)\n",
    "\n"
   ]
  },
  {
   "cell_type": "markdown",
   "metadata": {},
   "source": [
    "<div><img src=\"https://clark.physics.illinois.edu/246img/AnsStart.svg\" width=200 align=left alt=\"Answer (start)\"></img><br></div>"
   ]
  },
  {
   "cell_type": "code",
   "execution_count": 8,
   "metadata": {},
   "outputs": [],
   "source": [
    "### answer here"
   ]
  },
  {
   "cell_type": "code",
   "execution_count": 9,
   "metadata": {},
   "outputs": [],
   "source": [
    "### answer here"
   ]
  },
  {
   "cell_type": "markdown",
   "metadata": {},
   "source": [
    "<div><img src=\"https://clark.physics.illinois.edu/246img/AnsEnd.svg\" width=200 align=left alt=\"Answer (end)\"></img><br></div>"
   ]
  },
  {
   "cell_type": "markdown",
   "metadata": {},
   "source": [
    "Again notice the marked similarity to a particle in a box with infinite walls. "
   ]
  },
  {
   "cell_type": "markdown",
   "metadata": {},
   "source": [
    "### d.  Dynamics above the potential barrier"
   ]
  },
  {
   "cell_type": "markdown",
   "metadata": {},
   "source": [
    "In this problem, let us consider a superposition of eigenstates that is above the potential barrier. For example, let's take the superposition of eigenstates 9 and 10 (both above the potential) as \n",
    "\n",
    "$$\\Psi= \\sqrt{0.35}|e_9\\rangle + i \\sqrt{0.65}|e_{10}\\rangle$$\n",
    "\n",
    "Produce the same set of animations and observable plots for this wave-function.  \n",
    "\n",
    "Notice in this case that significant chunks of the wave-function are in the forbidden region. "
   ]
  },
  {
   "cell_type": "markdown",
   "metadata": {},
   "source": [
    "<div><img src=\"https://clark.physics.illinois.edu/246img/AnsStart.svg\" width=200 align=left alt=\"Answer (start)\"></img><br></div>"
   ]
  },
  {
   "cell_type": "code",
   "execution_count": 10,
   "metadata": {},
   "outputs": [],
   "source": [
    "### answer here"
   ]
  },
  {
   "cell_type": "markdown",
   "metadata": {},
   "source": [
    "<div><img src=\"https://clark.physics.illinois.edu/246img/AnsEnd.svg\" width=200 align=left alt=\"Answer (end)\"></img><br></div>"
   ]
  },
  {
   "cell_type": "markdown",
   "metadata": {},
   "source": [
    "### e.  Dynamics of a wave packet (optional)"
   ]
  },
  {
   "cell_type": "markdown",
   "metadata": {},
   "source": [
    "For the final piece, we'd like to watch a wave-packet hit into the finite wall.  For this we need a slighlty higher potential. Change the finite wall to be at $V=2.5$.  This requires you below to rebuild the Hamiltonian, get the eigenvalues, and rebuild the time evolution operator. Once you've done that, time evolve a normalized version of \n",
    "\n",
    "$$\\Psi(x) = e^{-\\frac{1}{2}(x+4\\sqrt{2})^2+2ix}$$\n",
    "\n",
    "using $\\Delta t=0.1$ for 200 time steps."
   ]
  },
  {
   "cell_type": "markdown",
   "metadata": {},
   "source": [
    "<div><img src=\"https://clark.physics.illinois.edu/246img/AnsStart.svg\" width=200 align=left alt=\"Answer (start)\"></img><br></div>"
   ]
  },
  {
   "cell_type": "code",
   "execution_count": 14,
   "metadata": {},
   "outputs": [],
   "source": [
    "### answer here"
   ]
  },
  {
   "cell_type": "markdown",
   "metadata": {},
   "source": [
    "<div><img src=\"https://clark.physics.illinois.edu/246img/AnsEnd.svg\" width=200 align=left alt=\"Answer (end)\"></img><br></div>"
   ]
  },
  {
   "cell_type": "markdown",
   "metadata": {},
   "source": [
    "## Exercise 2.  Finite Barriers"
   ]
  },
  {
   "cell_type": "markdown",
   "metadata": {},
   "source": [
    "### a. Diagonalize"
   ]
  },
  {
   "cell_type": "markdown",
   "metadata": {},
   "source": [
    "Now we will consider a potential with a finite barrier.  Set the potential to be zero except for the range $-1<x<1$ where we will have the potential be $V_0$.  We will start with $V_0=5$\n",
    "\n",
    "Start by plotting the potential.\n",
    "\n",
    "Then plot the lowest two eigenvalues and eigenvectors.   What you will find is that these two eigenvectors are nearly degenerate - they have almost the same energy."
   ]
  },
  {
   "cell_type": "markdown",
   "metadata": {},
   "source": [
    "<div><img src=\"https://clark.physics.illinois.edu/246img/AnsStart.svg\" width=200 align=left alt=\"Answer (start)\"></img><br></div>"
   ]
  },
  {
   "cell_type": "code",
   "execution_count": 15,
   "metadata": {},
   "outputs": [],
   "source": [
    "### answer here "
   ]
  },
  {
   "cell_type": "markdown",
   "metadata": {},
   "source": [
    "<div><img src=\"https://clark.physics.illinois.edu/246img/AnsEnd.svg\" width=200 align=left alt=\"Answer (end)\"></img><br></div>"
   ]
  },
  {
   "cell_type": "markdown",
   "metadata": {},
   "source": [
    "### b. Effects of barrier height and width on eigenstates"
   ]
  },
  {
   "cell_type": "markdown",
   "metadata": {},
   "source": [
    "We would like to understand how the barrier height and width effects the 0'th eigenstate. Given that we know that there is an exponential decay of the eigenstate in the forbidden region, one interesting thing to look at is the minimum value of the eigenstate around zero.  One way to look at this is to do `np.min(np.abs(v[:,0][mask]))` where `mask=np.logical_and(xs>-10,xs<10)` is centered away from 20 and -20 where it gets tiny simply because of the hard walls there.   \n",
    "\n",
    "Produce a series of potentials with width 2 centered around zero but height which scales from 0 to 4 (do jumps of 0.1 between 0 and 2 and jumps of 0.4 between 2 and 4 to avoid things being too slow).\n",
    "\n",
    "Then plot this minimum value as a function of the height. \n",
    "\n",
    "Do a similar calculation where you let the height be fixed to $V_0=1$ and let the width change from 0 to 4 (with similar jumps)."
   ]
  },
  {
   "cell_type": "markdown",
   "metadata": {},
   "source": [
    "<div><img src=\"https://clark.physics.illinois.edu/246img/AnsStart.svg\" width=200 align=left alt=\"Answer (start)\"></img><br></div>"
   ]
  },
  {
   "cell_type": "code",
   "execution_count": 16,
   "metadata": {},
   "outputs": [],
   "source": [
    "### answer here"
   ]
  },
  {
   "cell_type": "markdown",
   "metadata": {},
   "source": [
    "<div><img src=\"https://clark.physics.illinois.edu/246img/AnsEnd.svg\" width=200 align=left alt=\"Answer (end)\"></img><br></div>"
   ]
  },
  {
   "cell_type": "markdown",
   "metadata": {},
   "source": [
    "### c. Scattering off a potential wall "
   ]
  },
  {
   "cell_type": "markdown",
   "metadata": {},
   "source": [
    "Consider a potential barrier with height 5 and width 1.  Do time evolution with $\\Delta t=0.1$ for 100 steps starting from an initial wave-function of \n",
    "\n",
    "$$\\Psi = e^{-\\frac{1}{2} (x+15)^2 + 2ix}$$\n",
    "\n",
    "and animate it. \n"
   ]
  },
  {
   "cell_type": "markdown",
   "metadata": {},
   "source": [
    "<div><img src=\"https://clark.physics.illinois.edu/246img/AnsStart.svg\" width=200 align=left alt=\"Answer (start)\"></img><br></div>"
   ]
  },
  {
   "cell_type": "code",
   "execution_count": 17,
   "metadata": {},
   "outputs": [],
   "source": [
    "### answer here"
   ]
  },
  {
   "cell_type": "markdown",
   "metadata": {},
   "source": [
    "<div><img src=\"https://clark.physics.illinois.edu/246img/AnsEnd.svg\" width=200 align=left alt=\"Answer (end)\"></img><br></div>"
   ]
  }
 ],
 "metadata": {
  "kernelspec": {
   "display_name": "Python 3",
   "language": "python",
   "name": "python3"
  },
  "language_info": {
   "codemirror_mode": {
    "name": "ipython",
    "version": 3
   },
   "file_extension": ".py",
   "mimetype": "text/x-python",
   "name": "python",
   "nbconvert_exporter": "python",
   "pygments_lexer": "ipython3",
   "version": "3.9.6"
  }
 },
 "nbformat": 4,
 "nbformat_minor": 2
}
